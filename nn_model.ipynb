{
 "cells": [
  {
   "cell_type": "markdown",
   "id": "cc0f1272",
   "metadata": {},
   "source": [
    "# Neural Network to predict loan risk"
   ]
  },
  {
   "cell_type": "markdown",
   "id": "645d9bbe",
   "metadata": {},
   "source": [
    "dataset used for training: https://www.kaggle.com/datasets/laotse/credit-risk-dataset"
   ]
  },
  {
   "cell_type": "code",
   "execution_count": 16,
   "id": "6813f6ee",
   "metadata": {},
   "outputs": [
    {
     "name": "stdout",
     "output_type": "stream",
     "text": [
      "Tensorflow/Keras: 2.12.0\n",
      "pandas: 2.0.2\n",
      "numpy: 1.23.5\n",
      "sklearn: 1.2.2\n"
     ]
    }
   ],
   "source": [
    "# Tensorflow / Keras\n",
    "from tensorflow import keras # for building Neural Networks\n",
    "print('Tensorflow/Keras: %s' % keras.__version__) # print version\n",
    "from keras.models import Sequential # for creating a linear stack of layers for our Neural Network\n",
    "from keras import Input # for instantiating a keras tensor\n",
    "from keras.layers import Dense # for creating regular densely-connected NN layers.\n",
    "\n",
    "# Data manipulation\n",
    "import pandas as pd # for data manipulation\n",
    "print('pandas: %s' % pd.__version__) # print version\n",
    "import numpy as np # for data manipulation\n",
    "print('numpy: %s' % np.__version__) # print version\n",
    "\n",
    "# Sklearn\n",
    "import sklearn # for model evaluation\n",
    "print('sklearn: %s' % sklearn.__version__) # print version\n",
    "from sklearn.model_selection import train_test_split # for splitting data into train and test samples\n",
    "from sklearn.metrics import classification_report # for model evaluation metrics"
   ]
  },
  {
   "cell_type": "code",
   "execution_count": null,
   "id": "2618a2b0",
   "metadata": {},
   "outputs": [],
   "source": []
  },
  {
   "cell_type": "code",
   "execution_count": 17,
   "id": "e5266d7c",
   "metadata": {},
   "outputs": [
    {
     "data": {
      "text/html": [
       "<div>\n",
       "<style scoped>\n",
       "    .dataframe tbody tr th:only-of-type {\n",
       "        vertical-align: middle;\n",
       "    }\n",
       "\n",
       "    .dataframe tbody tr th {\n",
       "        vertical-align: top;\n",
       "    }\n",
       "\n",
       "    .dataframe thead th {\n",
       "        text-align: right;\n",
       "    }\n",
       "</style>\n",
       "<table border=\"1\" class=\"dataframe\">\n",
       "  <thead>\n",
       "    <tr style=\"text-align: right;\">\n",
       "      <th></th>\n",
       "      <th>person_age</th>\n",
       "      <th>person_income</th>\n",
       "      <th>person_home_ownership</th>\n",
       "      <th>person_emp_length</th>\n",
       "      <th>loan_intent</th>\n",
       "      <th>loan_grade</th>\n",
       "      <th>loan_amnt</th>\n",
       "      <th>loan_int_rate</th>\n",
       "      <th>loan_status</th>\n",
       "      <th>loan_percent_income</th>\n",
       "      <th>cb_person_default_on_file</th>\n",
       "      <th>cb_person_cred_hist_length</th>\n",
       "    </tr>\n",
       "  </thead>\n",
       "  <tbody>\n",
       "    <tr>\n",
       "      <th>0</th>\n",
       "      <td>22</td>\n",
       "      <td>59000</td>\n",
       "      <td>RENT</td>\n",
       "      <td>123.0</td>\n",
       "      <td>PERSONAL</td>\n",
       "      <td>D</td>\n",
       "      <td>35000</td>\n",
       "      <td>16.02</td>\n",
       "      <td>1</td>\n",
       "      <td>0.59</td>\n",
       "      <td>Y</td>\n",
       "      <td>3</td>\n",
       "    </tr>\n",
       "    <tr>\n",
       "      <th>1</th>\n",
       "      <td>21</td>\n",
       "      <td>9600</td>\n",
       "      <td>OWN</td>\n",
       "      <td>5.0</td>\n",
       "      <td>EDUCATION</td>\n",
       "      <td>B</td>\n",
       "      <td>1000</td>\n",
       "      <td>11.14</td>\n",
       "      <td>0</td>\n",
       "      <td>0.10</td>\n",
       "      <td>N</td>\n",
       "      <td>2</td>\n",
       "    </tr>\n",
       "    <tr>\n",
       "      <th>2</th>\n",
       "      <td>25</td>\n",
       "      <td>9600</td>\n",
       "      <td>MORTGAGE</td>\n",
       "      <td>1.0</td>\n",
       "      <td>MEDICAL</td>\n",
       "      <td>C</td>\n",
       "      <td>5500</td>\n",
       "      <td>12.87</td>\n",
       "      <td>1</td>\n",
       "      <td>0.57</td>\n",
       "      <td>N</td>\n",
       "      <td>3</td>\n",
       "    </tr>\n",
       "    <tr>\n",
       "      <th>3</th>\n",
       "      <td>23</td>\n",
       "      <td>65500</td>\n",
       "      <td>RENT</td>\n",
       "      <td>4.0</td>\n",
       "      <td>MEDICAL</td>\n",
       "      <td>C</td>\n",
       "      <td>35000</td>\n",
       "      <td>15.23</td>\n",
       "      <td>1</td>\n",
       "      <td>0.53</td>\n",
       "      <td>N</td>\n",
       "      <td>2</td>\n",
       "    </tr>\n",
       "    <tr>\n",
       "      <th>4</th>\n",
       "      <td>24</td>\n",
       "      <td>54400</td>\n",
       "      <td>RENT</td>\n",
       "      <td>8.0</td>\n",
       "      <td>MEDICAL</td>\n",
       "      <td>C</td>\n",
       "      <td>35000</td>\n",
       "      <td>14.27</td>\n",
       "      <td>1</td>\n",
       "      <td>0.55</td>\n",
       "      <td>Y</td>\n",
       "      <td>4</td>\n",
       "    </tr>\n",
       "  </tbody>\n",
       "</table>\n",
       "</div>"
      ],
      "text/plain": [
       "   person_age  person_income person_home_ownership  person_emp_length  \\\n",
       "0          22          59000                  RENT              123.0   \n",
       "1          21           9600                   OWN                5.0   \n",
       "2          25           9600              MORTGAGE                1.0   \n",
       "3          23          65500                  RENT                4.0   \n",
       "4          24          54400                  RENT                8.0   \n",
       "\n",
       "  loan_intent loan_grade  loan_amnt  loan_int_rate  loan_status  \\\n",
       "0    PERSONAL          D      35000          16.02            1   \n",
       "1   EDUCATION          B       1000          11.14            0   \n",
       "2     MEDICAL          C       5500          12.87            1   \n",
       "3     MEDICAL          C      35000          15.23            1   \n",
       "4     MEDICAL          C      35000          14.27            1   \n",
       "\n",
       "   loan_percent_income cb_person_default_on_file  cb_person_cred_hist_length  \n",
       "0                 0.59                         Y                           3  \n",
       "1                 0.10                         N                           2  \n",
       "2                 0.57                         N                           3  \n",
       "3                 0.53                         N                           2  \n",
       "4                 0.55                         Y                           4  "
      ]
     },
     "execution_count": 17,
     "metadata": {},
     "output_type": "execute_result"
    }
   ],
   "source": [
    "df = pd.read_csv(\"data/credit_risk_dataset.csv\")\n",
    "df.head()"
   ]
  },
  {
   "cell_type": "code",
   "execution_count": 18,
   "id": "60b1d8f7",
   "metadata": {},
   "outputs": [
    {
     "data": {
      "text/plain": [
       "False    32416\n",
       "True       165\n",
       "Name: count, dtype: int64"
      ]
     },
     "execution_count": 18,
     "metadata": {},
     "output_type": "execute_result"
    }
   ],
   "source": [
    "## Checking for Duplicates\n",
    "dups = df.duplicated()\n",
    "dups.value_counts() #There are 165 Duplicated rows"
   ]
  },
  {
   "cell_type": "code",
   "execution_count": 19,
   "id": "5f93463c",
   "metadata": {},
   "outputs": [
    {
     "name": "stdout",
     "output_type": "stream",
     "text": [
      "Shape of Data before removing duplicates -----> (32581,12) \n",
      "\n",
      "Shape of Data after removing duplicates -----> (32416,12)\n"
     ]
    }
   ],
   "source": [
    "## Removing the Duplicates\n",
    "print(f\"Shape of Data before removing duplicates -----> ({df.shape[0]},{df.shape[1]}) \\n\")\n",
    "df.drop_duplicates(inplace=True)\n",
    "print(f\"Shape of Data after removing duplicates -----> ({df.shape[0]},{df.shape[1]})\")"
   ]
  },
  {
   "cell_type": "code",
   "execution_count": 23,
   "id": "5897e7fe",
   "metadata": {},
   "outputs": [
    {
     "data": {
      "text/plain": [
       "person_age                       0\n",
       "person_income                    0\n",
       "person_home_ownership            0\n",
       "person_emp_length              887\n",
       "loan_intent                      0\n",
       "loan_grade                       0\n",
       "loan_amnt                        0\n",
       "loan_int_rate                 3095\n",
       "loan_status                      0\n",
       "loan_percent_income              0\n",
       "cb_person_default_on_file        0\n",
       "cb_person_cred_hist_length       0\n",
       "dtype: int64"
      ]
     },
     "execution_count": 23,
     "metadata": {},
     "output_type": "execute_result"
    }
   ],
   "source": [
    "# Set Pandas options to display more columns\n",
    "pd.options.display.max_columns=50\n",
    "\n",
    "# For columns with missing values, fill them in with column mean\n",
    "# df=df.fillna(df.mean())\n",
    "\n",
    "df.isnull().sum()"
   ]
  },
  {
   "cell_type": "code",
   "execution_count": 24,
   "id": "eb420fa9",
   "metadata": {},
   "outputs": [],
   "source": [
    "df['person_emp_length']=df['person_emp_length'].fillna(df['person_emp_length'].mean())\n",
    "df['loan_int_rate']=df['loan_int_rate'].fillna(df['loan_int_rate'].mean())"
   ]
  },
  {
   "cell_type": "markdown",
   "id": "df0d26ac",
   "metadata": {},
   "source": [
    "#### categorical data to numeric"
   ]
  },
  {
   "cell_type": "code",
   "execution_count": 25,
   "id": "8378b3ed",
   "metadata": {},
   "outputs": [
    {
     "name": "stdout",
     "output_type": "stream",
     "text": [
      "['RENT' 'OWN' 'MORTGAGE' 'OTHER']\n",
      "['PERSONAL' 'EDUCATION' 'MEDICAL' 'VENTURE' 'HOMEIMPROVEMENT'\n",
      " 'DEBTCONSOLIDATION']\n",
      "['D' 'B' 'C' 'A' 'E' 'F' 'G']\n",
      "['Y' 'N']\n"
     ]
    }
   ],
   "source": [
    "print(df['person_home_ownership'].unique())\n",
    "print(df['loan_intent'].unique())\n",
    "print(df['loan_grade'].unique())\n",
    "print(df['cb_person_default_on_file'].unique())"
   ]
  },
  {
   "cell_type": "code",
   "execution_count": 27,
   "id": "71c5436a",
   "metadata": {},
   "outputs": [],
   "source": [
    "df['person_home_ownership'].replace(['RENT', 'OWN', 'MORTGAGE', 'OTHER'],\n",
    "                        [0, 1, 2, 3], inplace=True)\n",
    "df['loan_intent'].replace(['PERSONAL', 'EDUCATION', 'MEDICAL', 'VENTURE', 'HOMEIMPROVEMENT', 'DEBTCONSOLIDATION'],\n",
    "                        [0, 1, 2, 3, 4, 5], inplace=True)\n",
    "df['loan_grade'].replace(['A', 'B', 'C', 'D', 'E', 'F', 'G'],\n",
    "                        [0, 1, 2, 3, 4, 5, 6], inplace=True)\n",
    "df['cb_person_default_on_file'].replace(['Y', 'N'],\n",
    "                        [0, 1], inplace=True)"
   ]
  },
  {
   "cell_type": "code",
   "execution_count": 32,
   "id": "6b08b075-25f5-479a-bd95-6ae2f01bea8a",
   "metadata": {
    "scrolled": true
   },
   "outputs": [
    {
     "data": {
      "text/html": [
       "<div>\n",
       "<style scoped>\n",
       "    .dataframe tbody tr th:only-of-type {\n",
       "        vertical-align: middle;\n",
       "    }\n",
       "\n",
       "    .dataframe tbody tr th {\n",
       "        vertical-align: top;\n",
       "    }\n",
       "\n",
       "    .dataframe thead th {\n",
       "        text-align: right;\n",
       "    }\n",
       "</style>\n",
       "<table border=\"1\" class=\"dataframe\">\n",
       "  <thead>\n",
       "    <tr style=\"text-align: right;\">\n",
       "      <th></th>\n",
       "      <th>person_age</th>\n",
       "      <th>person_income</th>\n",
       "      <th>person_home_ownership</th>\n",
       "      <th>person_emp_length</th>\n",
       "      <th>loan_intent</th>\n",
       "      <th>loan_grade</th>\n",
       "      <th>loan_amnt</th>\n",
       "      <th>loan_int_rate</th>\n",
       "      <th>loan_status</th>\n",
       "      <th>loan_percent_income</th>\n",
       "      <th>cb_person_default_on_file</th>\n",
       "      <th>cb_person_cred_hist_length</th>\n",
       "    </tr>\n",
       "  </thead>\n",
       "  <tbody>\n",
       "    <tr>\n",
       "      <th>count</th>\n",
       "      <td>32416.000000</td>\n",
       "      <td>3.241600e+04</td>\n",
       "      <td>32416.000000</td>\n",
       "      <td>32416.000000</td>\n",
       "      <td>32416.000000</td>\n",
       "      <td>32416.000000</td>\n",
       "      <td>32416.000000</td>\n",
       "      <td>32416.000000</td>\n",
       "      <td>32416.000000</td>\n",
       "      <td>32416.000000</td>\n",
       "      <td>32416.000000</td>\n",
       "      <td>32416.000000</td>\n",
       "    </tr>\n",
       "    <tr>\n",
       "      <th>mean</th>\n",
       "      <td>27.747008</td>\n",
       "      <td>6.609164e+04</td>\n",
       "      <td>0.913715</td>\n",
       "      <td>4.790510</td>\n",
       "      <td>2.340264</td>\n",
       "      <td>1.220508</td>\n",
       "      <td>9593.845632</td>\n",
       "      <td>11.017265</td>\n",
       "      <td>0.218688</td>\n",
       "      <td>0.170250</td>\n",
       "      <td>0.823235</td>\n",
       "      <td>5.811297</td>\n",
       "    </tr>\n",
       "    <tr>\n",
       "      <th>std</th>\n",
       "      <td>6.354100</td>\n",
       "      <td>6.201558e+04</td>\n",
       "      <td>0.960899</td>\n",
       "      <td>4.088378</td>\n",
       "      <td>1.679273</td>\n",
       "      <td>1.167293</td>\n",
       "      <td>6322.730241</td>\n",
       "      <td>3.083040</td>\n",
       "      <td>0.413363</td>\n",
       "      <td>0.106812</td>\n",
       "      <td>0.381475</td>\n",
       "      <td>4.059030</td>\n",
       "    </tr>\n",
       "    <tr>\n",
       "      <th>min</th>\n",
       "      <td>20.000000</td>\n",
       "      <td>4.000000e+03</td>\n",
       "      <td>0.000000</td>\n",
       "      <td>0.000000</td>\n",
       "      <td>0.000000</td>\n",
       "      <td>0.000000</td>\n",
       "      <td>500.000000</td>\n",
       "      <td>5.420000</td>\n",
       "      <td>0.000000</td>\n",
       "      <td>0.000000</td>\n",
       "      <td>0.000000</td>\n",
       "      <td>2.000000</td>\n",
       "    </tr>\n",
       "    <tr>\n",
       "      <th>25%</th>\n",
       "      <td>23.000000</td>\n",
       "      <td>3.854200e+04</td>\n",
       "      <td>0.000000</td>\n",
       "      <td>2.000000</td>\n",
       "      <td>1.000000</td>\n",
       "      <td>0.000000</td>\n",
       "      <td>5000.000000</td>\n",
       "      <td>8.490000</td>\n",
       "      <td>0.000000</td>\n",
       "      <td>0.090000</td>\n",
       "      <td>1.000000</td>\n",
       "      <td>3.000000</td>\n",
       "    </tr>\n",
       "    <tr>\n",
       "      <th>50%</th>\n",
       "      <td>26.000000</td>\n",
       "      <td>5.500000e+04</td>\n",
       "      <td>0.000000</td>\n",
       "      <td>4.000000</td>\n",
       "      <td>2.000000</td>\n",
       "      <td>1.000000</td>\n",
       "      <td>8000.000000</td>\n",
       "      <td>11.017265</td>\n",
       "      <td>0.000000</td>\n",
       "      <td>0.150000</td>\n",
       "      <td>1.000000</td>\n",
       "      <td>4.000000</td>\n",
       "    </tr>\n",
       "    <tr>\n",
       "      <th>75%</th>\n",
       "      <td>30.000000</td>\n",
       "      <td>7.921800e+04</td>\n",
       "      <td>2.000000</td>\n",
       "      <td>7.000000</td>\n",
       "      <td>4.000000</td>\n",
       "      <td>2.000000</td>\n",
       "      <td>12250.000000</td>\n",
       "      <td>13.110000</td>\n",
       "      <td>0.000000</td>\n",
       "      <td>0.230000</td>\n",
       "      <td>1.000000</td>\n",
       "      <td>8.000000</td>\n",
       "    </tr>\n",
       "    <tr>\n",
       "      <th>max</th>\n",
       "      <td>144.000000</td>\n",
       "      <td>6.000000e+06</td>\n",
       "      <td>3.000000</td>\n",
       "      <td>123.000000</td>\n",
       "      <td>5.000000</td>\n",
       "      <td>6.000000</td>\n",
       "      <td>35000.000000</td>\n",
       "      <td>23.220000</td>\n",
       "      <td>1.000000</td>\n",
       "      <td>0.830000</td>\n",
       "      <td>1.000000</td>\n",
       "      <td>30.000000</td>\n",
       "    </tr>\n",
       "  </tbody>\n",
       "</table>\n",
       "</div>"
      ],
      "text/plain": [
       "         person_age  person_income  person_home_ownership  person_emp_length  \\\n",
       "count  32416.000000   3.241600e+04           32416.000000       32416.000000   \n",
       "mean      27.747008   6.609164e+04               0.913715           4.790510   \n",
       "std        6.354100   6.201558e+04               0.960899           4.088378   \n",
       "min       20.000000   4.000000e+03               0.000000           0.000000   \n",
       "25%       23.000000   3.854200e+04               0.000000           2.000000   \n",
       "50%       26.000000   5.500000e+04               0.000000           4.000000   \n",
       "75%       30.000000   7.921800e+04               2.000000           7.000000   \n",
       "max      144.000000   6.000000e+06               3.000000         123.000000   \n",
       "\n",
       "        loan_intent    loan_grade     loan_amnt  loan_int_rate   loan_status  \\\n",
       "count  32416.000000  32416.000000  32416.000000   32416.000000  32416.000000   \n",
       "mean       2.340264      1.220508   9593.845632      11.017265      0.218688   \n",
       "std        1.679273      1.167293   6322.730241       3.083040      0.413363   \n",
       "min        0.000000      0.000000    500.000000       5.420000      0.000000   \n",
       "25%        1.000000      0.000000   5000.000000       8.490000      0.000000   \n",
       "50%        2.000000      1.000000   8000.000000      11.017265      0.000000   \n",
       "75%        4.000000      2.000000  12250.000000      13.110000      0.000000   \n",
       "max        5.000000      6.000000  35000.000000      23.220000      1.000000   \n",
       "\n",
       "       loan_percent_income  cb_person_default_on_file  \\\n",
       "count         32416.000000               32416.000000   \n",
       "mean              0.170250                   0.823235   \n",
       "std               0.106812                   0.381475   \n",
       "min               0.000000                   0.000000   \n",
       "25%               0.090000                   1.000000   \n",
       "50%               0.150000                   1.000000   \n",
       "75%               0.230000                   1.000000   \n",
       "max               0.830000                   1.000000   \n",
       "\n",
       "       cb_person_cred_hist_length  \n",
       "count                32416.000000  \n",
       "mean                     5.811297  \n",
       "std                      4.059030  \n",
       "min                      2.000000  \n",
       "25%                      3.000000  \n",
       "50%                      4.000000  \n",
       "75%                      8.000000  \n",
       "max                     30.000000  "
      ]
     },
     "execution_count": 32,
     "metadata": {},
     "output_type": "execute_result"
    }
   ],
   "source": [
    "df.describe()"
   ]
  },
  {
   "cell_type": "markdown",
   "id": "d08b25ea-53f1-4b0a-9730-044eeee9763d",
   "metadata": {},
   "source": [
    "#### Target variable is loan_status"
   ]
  },
  {
   "cell_type": "code",
   "execution_count": 33,
   "id": "25379989",
   "metadata": {},
   "outputs": [
    {
     "data": {
      "text/plain": [
       "loan_status\n",
       "0    0.781312\n",
       "1    0.218688\n",
       "Name: proportion, dtype: float64"
      ]
     },
     "execution_count": 33,
     "metadata": {},
     "output_type": "execute_result"
    }
   ],
   "source": [
    "df[\"loan_status\"].value_counts(normalize=True)"
   ]
  },
  {
   "cell_type": "markdown",
   "id": "37e7585c-f254-4ec2-804c-090dcab22d5b",
   "metadata": {},
   "source": [
    "#### Split the data into train and test sets"
   ]
  },
  {
   "cell_type": "code",
   "execution_count": 40,
   "id": "c605e59e",
   "metadata": {},
   "outputs": [],
   "source": [
    "X_df, X_test_df, y_df, y_test_df = train_test_split(df.drop('loan_status', axis=1), df['loan_status'],\n",
    "                                        random_state=0,  test_size=0.2, stratify=df['loan_status'],\n",
    "                                        shuffle=True)"
   ]
  },
  {
   "cell_type": "code",
   "execution_count": 76,
   "id": "ef7becd2-6d85-4007-9fa9-9642394df01c",
   "metadata": {},
   "outputs": [
    {
     "data": {
      "text/plain": [
       "count    25932.000000\n",
       "mean         0.218687\n",
       "std          0.413364\n",
       "min          0.000000\n",
       "25%          0.000000\n",
       "50%          0.000000\n",
       "75%          0.000000\n",
       "max          1.000000\n",
       "Name: loan_status, dtype: float64"
      ]
     },
     "execution_count": 76,
     "metadata": {},
     "output_type": "execute_result"
    }
   ],
   "source": [
    "y_df.describe()"
   ]
  },
  {
   "cell_type": "code",
   "execution_count": 46,
   "id": "b91cfa75-07a3-42e9-ac1b-75d60c7cb3cf",
   "metadata": {},
   "outputs": [],
   "source": [
    "X = X_df.to_numpy()\n",
    "y = y_df.to_numpy()\n",
    "X_test = X_test_df.to_numpy()\n",
    "y_test = y_test_df.to_numpy()"
   ]
  },
  {
   "cell_type": "code",
   "execution_count": 48,
   "id": "87170064-bb7b-46ce-843f-50ce96cb41b0",
   "metadata": {},
   "outputs": [
    {
     "data": {
      "text/plain": [
       "(11,)"
      ]
     },
     "execution_count": 48,
     "metadata": {},
     "output_type": "execute_result"
    }
   ],
   "source": [
    "X[0].shape"
   ]
  },
  {
   "cell_type": "code",
   "execution_count": 102,
   "id": "9ceea875",
   "metadata": {},
   "outputs": [],
   "source": [
    "model = Sequential(name=\"Model-with-One-Input\") # Model\n",
    "model.add(Input(shape=X[0].shape, name='Input-Layer')) # Input Layer - need to speicfy the shape of inputs\n",
    "model.add(Dense(12, activation='relu', name='h_l1')) # Hidden Layer, softplus(x) = log(exp(x) + 1)\n",
    "model.add(Dense(8, activation='relu', name='h_l2')) # Hidden Layer, softplus(x) = log(exp(x) + 1)\n",
    "model.add(Dense(1, activation='sigmoid', name='Output-Layer')) # Output Layer, sigmoid(x) = 1 / (1 + exp(-x))"
   ]
  },
  {
   "cell_type": "code",
   "execution_count": 103,
   "id": "0cb0c729",
   "metadata": {},
   "outputs": [],
   "source": [
    "model.compile(optimizer='Adam', loss='binary_crossentropy')"
   ]
  },
  {
   "cell_type": "code",
   "execution_count": 114,
   "id": "fb401803-0517-43e6-aef2-cb36e22979df",
   "metadata": {},
   "outputs": [
    {
     "name": "stdout",
     "output_type": "stream",
     "text": [
      "811/811 [==============================] - 4s 5ms/step - loss: 0.5260\n"
     ]
    },
    {
     "data": {
      "text/plain": [
       "<keras.callbacks.History at 0x7fd305258bd0>"
      ]
     },
     "execution_count": 114,
     "metadata": {},
     "output_type": "execute_result"
    }
   ],
   "source": [
    "model.fit(X, y)"
   ]
  },
  {
   "cell_type": "code",
   "execution_count": 115,
   "id": "97e4c342-634a-4faf-a88e-13dfdd3c4bdc",
   "metadata": {},
   "outputs": [
    {
     "name": "stdout",
     "output_type": "stream",
     "text": [
      "203/203 [==============================] - 1s 5ms/step - loss: 0.5254\n"
     ]
    },
    {
     "data": {
      "text/plain": [
       "0.5254142880439758"
      ]
     },
     "execution_count": 115,
     "metadata": {},
     "output_type": "execute_result"
    }
   ],
   "source": [
    "model.evaluate(X_test, y_test)"
   ]
  },
  {
   "cell_type": "code",
   "execution_count": 116,
   "id": "b7fd2d0d-1fd8-4593-88b2-a28227c766ac",
   "metadata": {},
   "outputs": [
    {
     "data": {
      "text/plain": [
       "1418"
      ]
     },
     "execution_count": 116,
     "metadata": {},
     "output_type": "execute_result"
    }
   ],
   "source": [
    "sum(y_test)"
   ]
  },
  {
   "cell_type": "code",
   "execution_count": 117,
   "id": "93609bd2-fa17-4e2f-a4ef-edf8db8baf25",
   "metadata": {},
   "outputs": [
    {
     "name": "stdout",
     "output_type": "stream",
     "text": [
      "203/203 [==============================] - 1s 3ms/step\n"
     ]
    },
    {
     "data": {
      "text/plain": [
       "array([[0.22630154],\n",
       "       [0.22630154],\n",
       "       [0.22630154],\n",
       "       ...,\n",
       "       [0.22630154],\n",
       "       [0.22630154],\n",
       "       [0.22630154]], dtype=float32)"
      ]
     },
     "execution_count": 117,
     "metadata": {},
     "output_type": "execute_result"
    }
   ],
   "source": [
    "model.predict(X_test)"
   ]
  },
  {
   "cell_type": "code",
   "execution_count": 118,
   "id": "822e531f-075a-4ec2-b103-afb2b3e24849",
   "metadata": {},
   "outputs": [
    {
     "data": {
      "text/plain": [
       "array([0, 1, 0, ..., 0, 0, 1])"
      ]
     },
     "execution_count": 118,
     "metadata": {},
     "output_type": "execute_result"
    }
   ],
   "source": [
    "y_test"
   ]
  },
  {
   "cell_type": "code",
   "execution_count": 119,
   "id": "d9d6b511-3d98-4bd9-aef1-6d95b83510b3",
   "metadata": {},
   "outputs": [
    {
     "name": "stdout",
     "output_type": "stream",
     "text": [
      "203/203 [==============================] - 1s 3ms/step\n"
     ]
    },
    {
     "data": {
      "text/plain": [
       "array([[0.22630154],\n",
       "       [0.22630154],\n",
       "       [0.22630154],\n",
       "       ...,\n",
       "       [0.22630154],\n",
       "       [0.22630154],\n",
       "       [0.22630154]], dtype=float32)"
      ]
     },
     "execution_count": 119,
     "metadata": {},
     "output_type": "execute_result"
    }
   ],
   "source": [
    "model.predict(X_test)"
   ]
  },
  {
   "cell_type": "code",
   "execution_count": 120,
   "id": "ba71200a-97ef-43bf-9cb1-cfb56ee6be86",
   "metadata": {},
   "outputs": [
    {
     "name": "stdout",
     "output_type": "stream",
     "text": [
      "203/203 [==============================] - 1s 4ms/step\n"
     ]
    },
    {
     "data": {
      "text/plain": [
       "0.7813078346699568"
      ]
     },
     "execution_count": 120,
     "metadata": {},
     "output_type": "execute_result"
    }
   ],
   "source": [
    "sum(list(map(lambda x: 1 if (x>0.5)[0] else 0 , model.predict(X_test))) == y_test) / len(y_test)"
   ]
  },
  {
   "cell_type": "code",
   "execution_count": 121,
   "id": "675dcf91-5139-49a9-815f-e878fbb91e14",
   "metadata": {},
   "outputs": [
    {
     "data": {
      "text/plain": [
       "array([0, 1, 0, ..., 0, 0, 1])"
      ]
     },
     "execution_count": 121,
     "metadata": {},
     "output_type": "execute_result"
    }
   ],
   "source": [
    "y_test"
   ]
  },
  {
   "cell_type": "code",
   "execution_count": 164,
   "id": "44b12f9c-69d2-44c8-8767-88b02cb62823",
   "metadata": {},
   "outputs": [],
   "source": [
    "all_w = []\n",
    "activations = []\n",
    "import json\n",
    "for layer in model.layers:\n",
    "    all_w.append(layer.weights[0].numpy().tolist())\n",
    "    activations.append(layer.activation.__name__)"
   ]
  },
  {
   "cell_type": "code",
   "execution_count": 168,
   "id": "afa4bb78-6d03-4461-95fe-35173bcb4769",
   "metadata": {},
   "outputs": [],
   "source": [
    "model_json = {\n",
    "    'weights': all_w,\n",
    "    'activation_functions': activations,\n",
    "}\n",
    "model_file = open('model.json','w')\n",
    "json.dump(model_json, model_file)\n",
    "model_file.close()"
   ]
  },
  {
   "cell_type": "code",
   "execution_count": 170,
   "id": "bb88f1c4-6b38-479c-af86-5485b6ea0b69",
   "metadata": {},
   "outputs": [],
   "source": [
    "\n",
    "import os\n",
    "\n",
    "# :!:>section_1\n",
    "NODE_URL = os.getenv(\"APTOS_NODE_URL\", \"https://fullnode.devnet.aptoslabs.com/v1\")\n",
    "FAUCET_URL = os.getenv(\n",
    "    \"APTOS_FAUCET_URL\",\n",
    "    \"https://faucet.devnet.aptoslabs.com\",\n",
    ")  # <:!:section_1"
   ]
  },
  {
   "cell_type": "code",
   "execution_count": 172,
   "id": "46136eaa-c36f-4ed4-9938-cbf9c142e0a4",
   "metadata": {},
   "outputs": [
    {
     "name": "stdout",
     "output_type": "stream",
     "text": [
      "\n",
      "=== Addresses ===\n",
      "Alice: 0x45b4bdd6f2f4065dfe0e5ba4ce69ce9b14ced769f7ac6635ceba74eb86ef58a2\n",
      "Bob: 0x41db77bc17d72e0f63bc888bb36d9431f4f681911b1aca8087d3dc9b77bf71eb\n",
      "\n",
      "=== Initial Balances ===\n",
      "Alice: 100000000\n",
      "Bob: 0\n",
      "\n",
      "=== Intermediate Balances ===\n",
      "Alice: 99998400\n",
      "Bob: 1000\n",
      "\n",
      "=== Final Balances ===\n",
      "Alice: 99996800\n",
      "Bob: 2000\n"
     ]
    }
   ],
   "source": [
    "# Copyright © Aptos Foundation\n",
    "# SPDX-License-Identifier: Apache-2.0\n",
    "\n",
    "from aptos_sdk.account import Account\n",
    "from aptos_sdk.client import FaucetClient, RestClient\n",
    "\n",
    "if __name__ == \"__main__\":\n",
    "    # :!:>section_1\n",
    "    rest_client = RestClient(NODE_URL)\n",
    "    faucet_client = FaucetClient(FAUCET_URL, rest_client)  # <:!:section_1\n",
    "\n",
    "    # :!:>section_2\n",
    "    alice = Account.generate()\n",
    "    bob = Account.generate()  # <:!:section_2\n",
    "\n",
    "    print(\"\\n=== Addresses ===\")\n",
    "    print(f\"Alice: {alice.address()}\")\n",
    "    print(f\"Bob: {bob.address()}\")\n",
    "\n",
    "    # :!:>section_3\n",
    "    faucet_client.fund_account(alice.address(), 100_000_000)\n",
    "    faucet_client.fund_account(bob.address(), 0)  # <:!:section_3\n",
    "\n",
    "    print(\"\\n=== Initial Balances ===\")\n",
    "    # :!:>section_4\n",
    "    print(f\"Alice: {rest_client.account_balance(alice.address())}\")\n",
    "    print(f\"Bob: {rest_client.account_balance(bob.address())}\")  # <:!:section_4\n",
    "\n",
    "    # Have Alice give Bob 1_000 coins\n",
    "    # :!:>section_5\n",
    "    txn_hash = rest_client.transfer(alice, bob.address(), 1_000)  # <:!:section_5\n",
    "    # :!:>section_6\n",
    "    rest_client.wait_for_transaction(txn_hash)  # <:!:section_6\n",
    "\n",
    "    print(\"\\n=== Intermediate Balances ===\")\n",
    "    print(f\"Alice: {rest_client.account_balance(alice.address())}\")\n",
    "    print(f\"Bob: {rest_client.account_balance(bob.address())}\")\n",
    "\n",
    "    # Have Alice give Bob another 1_000 coins using BCS\n",
    "    txn_hash = rest_client.bcs_transfer(alice, bob.address(), 1_000)\n",
    "    rest_client.wait_for_transaction(txn_hash)\n",
    "\n",
    "    print(\"\\n=== Final Balances ===\")\n",
    "    print(f\"Alice: {rest_client.account_balance(alice.address())}\")\n",
    "    print(f\"Bob: {rest_client.account_balance(bob.address())}\")\n",
    "\n",
    "    rest_client.close()"
   ]
  },
  {
   "cell_type": "code",
   "execution_count": null,
   "id": "9e2df3a9-b08a-45d0-822b-62856e1d26c9",
   "metadata": {},
   "outputs": [],
   "source": []
  }
 ],
 "metadata": {
  "kernelspec": {
   "display_name": "Python 3 (ipykernel)",
   "language": "python",
   "name": "python3"
  },
  "language_info": {
   "codemirror_mode": {
    "name": "ipython",
    "version": 3
   },
   "file_extension": ".py",
   "mimetype": "text/x-python",
   "name": "python",
   "nbconvert_exporter": "python",
   "pygments_lexer": "ipython3",
   "version": "3.11.3"
  }
 },
 "nbformat": 4,
 "nbformat_minor": 5
}
