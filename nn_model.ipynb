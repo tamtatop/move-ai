{
 "cells": [
  {
   "cell_type": "markdown",
   "id": "cc0f1272",
   "metadata": {},
   "source": [
    "# Neural Network to predict loan risk"
   ]
  },
  {
   "cell_type": "markdown",
   "id": "645d9bbe",
   "metadata": {},
   "source": [
    "dataset used for training: https://www.kaggle.com/datasets/laotse/credit-risk-dataset"
   ]
  },
  {
   "cell_type": "code",
   "execution_count": 340,
   "id": "6813f6ee",
   "metadata": {},
   "outputs": [
    {
     "name": "stdout",
     "output_type": "stream",
     "text": [
      "Tensorflow/Keras: 2.12.0\n",
      "pandas: 2.0.2\n",
      "numpy: 1.23.5\n",
      "sklearn: 1.2.2\n"
     ]
    }
   ],
   "source": [
    "from tensorflow import keras \n",
    "print('Tensorflow/Keras: %s' % keras.__version__) \n",
    "from keras.models import Sequential \n",
    "from keras import Input \n",
    "from keras.layers import Dense \n",
    "\n",
    "\n",
    "import pandas as pd \n",
    "print('pandas: %s' % pd.__version__) \n",
    "import numpy as np \n",
    "print('numpy: %s' % np.__version__) \n",
    "\n",
    "\n",
    "import sklearn \n",
    "print('sklearn: %s' % sklearn.__version__) \n",
    "from sklearn.model_selection import train_test_split \n",
    "from sklearn.metrics import classification_report \n",
    "import time"
   ]
  },
  {
   "cell_type": "code",
   "execution_count": 298,
   "id": "e5266d7c",
   "metadata": {},
   "outputs": [
    {
     "data": {
      "text/html": [
       "<div>\n",
       "<style scoped>\n",
       "    .dataframe tbody tr th:only-of-type {\n",
       "        vertical-align: middle;\n",
       "    }\n",
       "\n",
       "    .dataframe tbody tr th {\n",
       "        vertical-align: top;\n",
       "    }\n",
       "\n",
       "    .dataframe thead th {\n",
       "        text-align: right;\n",
       "    }\n",
       "</style>\n",
       "<table border=\"1\" class=\"dataframe\">\n",
       "  <thead>\n",
       "    <tr style=\"text-align: right;\">\n",
       "      <th></th>\n",
       "      <th>person_age</th>\n",
       "      <th>person_income</th>\n",
       "      <th>person_home_ownership</th>\n",
       "      <th>person_emp_length</th>\n",
       "      <th>loan_intent</th>\n",
       "      <th>loan_grade</th>\n",
       "      <th>loan_amnt</th>\n",
       "      <th>loan_int_rate</th>\n",
       "      <th>loan_status</th>\n",
       "      <th>loan_percent_income</th>\n",
       "      <th>cb_person_default_on_file</th>\n",
       "      <th>cb_person_cred_hist_length</th>\n",
       "    </tr>\n",
       "  </thead>\n",
       "  <tbody>\n",
       "    <tr>\n",
       "      <th>0</th>\n",
       "      <td>22</td>\n",
       "      <td>59000</td>\n",
       "      <td>RENT</td>\n",
       "      <td>123.0</td>\n",
       "      <td>PERSONAL</td>\n",
       "      <td>D</td>\n",
       "      <td>35000</td>\n",
       "      <td>16.02</td>\n",
       "      <td>1</td>\n",
       "      <td>0.59</td>\n",
       "      <td>Y</td>\n",
       "      <td>3</td>\n",
       "    </tr>\n",
       "    <tr>\n",
       "      <th>1</th>\n",
       "      <td>21</td>\n",
       "      <td>9600</td>\n",
       "      <td>OWN</td>\n",
       "      <td>5.0</td>\n",
       "      <td>EDUCATION</td>\n",
       "      <td>B</td>\n",
       "      <td>1000</td>\n",
       "      <td>11.14</td>\n",
       "      <td>0</td>\n",
       "      <td>0.10</td>\n",
       "      <td>N</td>\n",
       "      <td>2</td>\n",
       "    </tr>\n",
       "    <tr>\n",
       "      <th>2</th>\n",
       "      <td>25</td>\n",
       "      <td>9600</td>\n",
       "      <td>MORTGAGE</td>\n",
       "      <td>1.0</td>\n",
       "      <td>MEDICAL</td>\n",
       "      <td>C</td>\n",
       "      <td>5500</td>\n",
       "      <td>12.87</td>\n",
       "      <td>1</td>\n",
       "      <td>0.57</td>\n",
       "      <td>N</td>\n",
       "      <td>3</td>\n",
       "    </tr>\n",
       "    <tr>\n",
       "      <th>3</th>\n",
       "      <td>23</td>\n",
       "      <td>65500</td>\n",
       "      <td>RENT</td>\n",
       "      <td>4.0</td>\n",
       "      <td>MEDICAL</td>\n",
       "      <td>C</td>\n",
       "      <td>35000</td>\n",
       "      <td>15.23</td>\n",
       "      <td>1</td>\n",
       "      <td>0.53</td>\n",
       "      <td>N</td>\n",
       "      <td>2</td>\n",
       "    </tr>\n",
       "    <tr>\n",
       "      <th>4</th>\n",
       "      <td>24</td>\n",
       "      <td>54400</td>\n",
       "      <td>RENT</td>\n",
       "      <td>8.0</td>\n",
       "      <td>MEDICAL</td>\n",
       "      <td>C</td>\n",
       "      <td>35000</td>\n",
       "      <td>14.27</td>\n",
       "      <td>1</td>\n",
       "      <td>0.55</td>\n",
       "      <td>Y</td>\n",
       "      <td>4</td>\n",
       "    </tr>\n",
       "  </tbody>\n",
       "</table>\n",
       "</div>"
      ],
      "text/plain": [
       "   person_age  person_income person_home_ownership  person_emp_length  \\\n",
       "0          22          59000                  RENT              123.0   \n",
       "1          21           9600                   OWN                5.0   \n",
       "2          25           9600              MORTGAGE                1.0   \n",
       "3          23          65500                  RENT                4.0   \n",
       "4          24          54400                  RENT                8.0   \n",
       "\n",
       "  loan_intent loan_grade  loan_amnt  loan_int_rate  loan_status  \\\n",
       "0    PERSONAL          D      35000          16.02            1   \n",
       "1   EDUCATION          B       1000          11.14            0   \n",
       "2     MEDICAL          C       5500          12.87            1   \n",
       "3     MEDICAL          C      35000          15.23            1   \n",
       "4     MEDICAL          C      35000          14.27            1   \n",
       "\n",
       "   loan_percent_income cb_person_default_on_file  cb_person_cred_hist_length  \n",
       "0                 0.59                         Y                           3  \n",
       "1                 0.10                         N                           2  \n",
       "2                 0.57                         N                           3  \n",
       "3                 0.53                         N                           2  \n",
       "4                 0.55                         Y                           4  "
      ]
     },
     "execution_count": 298,
     "metadata": {},
     "output_type": "execute_result"
    }
   ],
   "source": [
    "df = pd.read_csv(\"data/credit_risk_dataset.csv\")\n",
    "df.head()"
   ]
  },
  {
   "cell_type": "code",
   "execution_count": 299,
   "id": "60b1d8f7",
   "metadata": {},
   "outputs": [
    {
     "data": {
      "text/plain": [
       "False    32416\n",
       "True       165\n",
       "Name: count, dtype: int64"
      ]
     },
     "execution_count": 299,
     "metadata": {},
     "output_type": "execute_result"
    }
   ],
   "source": [
    "## Checking for Duplicates\n",
    "dups = df.duplicated()\n",
    "dups.value_counts() #There are 165 Duplicated rows"
   ]
  },
  {
   "cell_type": "code",
   "execution_count": 19,
   "id": "5f93463c",
   "metadata": {},
   "outputs": [
    {
     "name": "stdout",
     "output_type": "stream",
     "text": [
      "Shape of Data before removing duplicates -----> (32581,12) \n",
      "\n",
      "Shape of Data after removing duplicates -----> (32416,12)\n"
     ]
    }
   ],
   "source": [
    "## Removing the Duplicates\n",
    "print(f\"Shape of Data before removing duplicates -----> ({df.shape[0]},{df.shape[1]}) \\n\")\n",
    "df.drop_duplicates(inplace=True)\n",
    "print(f\"Shape of Data after removing duplicates -----> ({df.shape[0]},{df.shape[1]})\")"
   ]
  },
  {
   "cell_type": "code",
   "execution_count": 23,
   "id": "5897e7fe",
   "metadata": {},
   "outputs": [
    {
     "data": {
      "text/plain": [
       "person_age                       0\n",
       "person_income                    0\n",
       "person_home_ownership            0\n",
       "person_emp_length              887\n",
       "loan_intent                      0\n",
       "loan_grade                       0\n",
       "loan_amnt                        0\n",
       "loan_int_rate                 3095\n",
       "loan_status                      0\n",
       "loan_percent_income              0\n",
       "cb_person_default_on_file        0\n",
       "cb_person_cred_hist_length       0\n",
       "dtype: int64"
      ]
     },
     "execution_count": 23,
     "metadata": {},
     "output_type": "execute_result"
    }
   ],
   "source": [
    "# Set Pandas options to display more columns\n",
    "pd.options.display.max_columns=50\n",
    "\n",
    "# For columns with missing values, fill them in with column mean\n",
    "# df=df.fillna(df.mean())\n",
    "\n",
    "df.isnull().sum()"
   ]
  },
  {
   "cell_type": "code",
   "execution_count": 24,
   "id": "eb420fa9",
   "metadata": {},
   "outputs": [],
   "source": [
    "df['person_emp_length']=df['person_emp_length'].fillna(df['person_emp_length'].mean())\n",
    "df['loan_int_rate']=df['loan_int_rate'].fillna(df['loan_int_rate'].mean())"
   ]
  },
  {
   "cell_type": "markdown",
   "id": "df0d26ac",
   "metadata": {},
   "source": [
    "#### categorical data to numeric"
   ]
  },
  {
   "cell_type": "code",
   "execution_count": 25,
   "id": "8378b3ed",
   "metadata": {},
   "outputs": [
    {
     "name": "stdout",
     "output_type": "stream",
     "text": [
      "['RENT' 'OWN' 'MORTGAGE' 'OTHER']\n",
      "['PERSONAL' 'EDUCATION' 'MEDICAL' 'VENTURE' 'HOMEIMPROVEMENT'\n",
      " 'DEBTCONSOLIDATION']\n",
      "['D' 'B' 'C' 'A' 'E' 'F' 'G']\n",
      "['Y' 'N']\n"
     ]
    }
   ],
   "source": [
    "print(df['person_home_ownership'].unique())\n",
    "print(df['loan_intent'].unique())\n",
    "print(df['loan_grade'].unique())\n",
    "print(df['cb_person_default_on_file'].unique())"
   ]
  },
  {
   "cell_type": "code",
   "execution_count": 27,
   "id": "71c5436a",
   "metadata": {},
   "outputs": [],
   "source": [
    "df['person_home_ownership'].replace(['RENT', 'OWN', 'MORTGAGE', 'OTHER'],\n",
    "                        [0, 1, 2, 3], inplace=True)\n",
    "df['loan_intent'].replace(['PERSONAL', 'EDUCATION', 'MEDICAL', 'VENTURE', 'HOMEIMPROVEMENT', 'DEBTCONSOLIDATION'],\n",
    "                        [0, 1, 2, 3, 4, 5], inplace=True)\n",
    "df['loan_grade'].replace(['A', 'B', 'C', 'D', 'E', 'F', 'G'],\n",
    "                        [0, 1, 2, 3, 4, 5, 6], inplace=True)\n",
    "df['cb_person_default_on_file'].replace(['Y', 'N'],\n",
    "                        [0, 1], inplace=True)"
   ]
  },
  {
   "cell_type": "code",
   "execution_count": 32,
   "id": "6b08b075-25f5-479a-bd95-6ae2f01bea8a",
   "metadata": {
    "scrolled": true
   },
   "outputs": [
    {
     "data": {
      "text/html": [
       "<div>\n",
       "<style scoped>\n",
       "    .dataframe tbody tr th:only-of-type {\n",
       "        vertical-align: middle;\n",
       "    }\n",
       "\n",
       "    .dataframe tbody tr th {\n",
       "        vertical-align: top;\n",
       "    }\n",
       "\n",
       "    .dataframe thead th {\n",
       "        text-align: right;\n",
       "    }\n",
       "</style>\n",
       "<table border=\"1\" class=\"dataframe\">\n",
       "  <thead>\n",
       "    <tr style=\"text-align: right;\">\n",
       "      <th></th>\n",
       "      <th>person_age</th>\n",
       "      <th>person_income</th>\n",
       "      <th>person_home_ownership</th>\n",
       "      <th>person_emp_length</th>\n",
       "      <th>loan_intent</th>\n",
       "      <th>loan_grade</th>\n",
       "      <th>loan_amnt</th>\n",
       "      <th>loan_int_rate</th>\n",
       "      <th>loan_status</th>\n",
       "      <th>loan_percent_income</th>\n",
       "      <th>cb_person_default_on_file</th>\n",
       "      <th>cb_person_cred_hist_length</th>\n",
       "    </tr>\n",
       "  </thead>\n",
       "  <tbody>\n",
       "    <tr>\n",
       "      <th>count</th>\n",
       "      <td>32416.000000</td>\n",
       "      <td>3.241600e+04</td>\n",
       "      <td>32416.000000</td>\n",
       "      <td>32416.000000</td>\n",
       "      <td>32416.000000</td>\n",
       "      <td>32416.000000</td>\n",
       "      <td>32416.000000</td>\n",
       "      <td>32416.000000</td>\n",
       "      <td>32416.000000</td>\n",
       "      <td>32416.000000</td>\n",
       "      <td>32416.000000</td>\n",
       "      <td>32416.000000</td>\n",
       "    </tr>\n",
       "    <tr>\n",
       "      <th>mean</th>\n",
       "      <td>27.747008</td>\n",
       "      <td>6.609164e+04</td>\n",
       "      <td>0.913715</td>\n",
       "      <td>4.790510</td>\n",
       "      <td>2.340264</td>\n",
       "      <td>1.220508</td>\n",
       "      <td>9593.845632</td>\n",
       "      <td>11.017265</td>\n",
       "      <td>0.218688</td>\n",
       "      <td>0.170250</td>\n",
       "      <td>0.823235</td>\n",
       "      <td>5.811297</td>\n",
       "    </tr>\n",
       "    <tr>\n",
       "      <th>std</th>\n",
       "      <td>6.354100</td>\n",
       "      <td>6.201558e+04</td>\n",
       "      <td>0.960899</td>\n",
       "      <td>4.088378</td>\n",
       "      <td>1.679273</td>\n",
       "      <td>1.167293</td>\n",
       "      <td>6322.730241</td>\n",
       "      <td>3.083040</td>\n",
       "      <td>0.413363</td>\n",
       "      <td>0.106812</td>\n",
       "      <td>0.381475</td>\n",
       "      <td>4.059030</td>\n",
       "    </tr>\n",
       "    <tr>\n",
       "      <th>min</th>\n",
       "      <td>20.000000</td>\n",
       "      <td>4.000000e+03</td>\n",
       "      <td>0.000000</td>\n",
       "      <td>0.000000</td>\n",
       "      <td>0.000000</td>\n",
       "      <td>0.000000</td>\n",
       "      <td>500.000000</td>\n",
       "      <td>5.420000</td>\n",
       "      <td>0.000000</td>\n",
       "      <td>0.000000</td>\n",
       "      <td>0.000000</td>\n",
       "      <td>2.000000</td>\n",
       "    </tr>\n",
       "    <tr>\n",
       "      <th>25%</th>\n",
       "      <td>23.000000</td>\n",
       "      <td>3.854200e+04</td>\n",
       "      <td>0.000000</td>\n",
       "      <td>2.000000</td>\n",
       "      <td>1.000000</td>\n",
       "      <td>0.000000</td>\n",
       "      <td>5000.000000</td>\n",
       "      <td>8.490000</td>\n",
       "      <td>0.000000</td>\n",
       "      <td>0.090000</td>\n",
       "      <td>1.000000</td>\n",
       "      <td>3.000000</td>\n",
       "    </tr>\n",
       "    <tr>\n",
       "      <th>50%</th>\n",
       "      <td>26.000000</td>\n",
       "      <td>5.500000e+04</td>\n",
       "      <td>0.000000</td>\n",
       "      <td>4.000000</td>\n",
       "      <td>2.000000</td>\n",
       "      <td>1.000000</td>\n",
       "      <td>8000.000000</td>\n",
       "      <td>11.017265</td>\n",
       "      <td>0.000000</td>\n",
       "      <td>0.150000</td>\n",
       "      <td>1.000000</td>\n",
       "      <td>4.000000</td>\n",
       "    </tr>\n",
       "    <tr>\n",
       "      <th>75%</th>\n",
       "      <td>30.000000</td>\n",
       "      <td>7.921800e+04</td>\n",
       "      <td>2.000000</td>\n",
       "      <td>7.000000</td>\n",
       "      <td>4.000000</td>\n",
       "      <td>2.000000</td>\n",
       "      <td>12250.000000</td>\n",
       "      <td>13.110000</td>\n",
       "      <td>0.000000</td>\n",
       "      <td>0.230000</td>\n",
       "      <td>1.000000</td>\n",
       "      <td>8.000000</td>\n",
       "    </tr>\n",
       "    <tr>\n",
       "      <th>max</th>\n",
       "      <td>144.000000</td>\n",
       "      <td>6.000000e+06</td>\n",
       "      <td>3.000000</td>\n",
       "      <td>123.000000</td>\n",
       "      <td>5.000000</td>\n",
       "      <td>6.000000</td>\n",
       "      <td>35000.000000</td>\n",
       "      <td>23.220000</td>\n",
       "      <td>1.000000</td>\n",
       "      <td>0.830000</td>\n",
       "      <td>1.000000</td>\n",
       "      <td>30.000000</td>\n",
       "    </tr>\n",
       "  </tbody>\n",
       "</table>\n",
       "</div>"
      ],
      "text/plain": [
       "         person_age  person_income  person_home_ownership  person_emp_length  \\\n",
       "count  32416.000000   3.241600e+04           32416.000000       32416.000000   \n",
       "mean      27.747008   6.609164e+04               0.913715           4.790510   \n",
       "std        6.354100   6.201558e+04               0.960899           4.088378   \n",
       "min       20.000000   4.000000e+03               0.000000           0.000000   \n",
       "25%       23.000000   3.854200e+04               0.000000           2.000000   \n",
       "50%       26.000000   5.500000e+04               0.000000           4.000000   \n",
       "75%       30.000000   7.921800e+04               2.000000           7.000000   \n",
       "max      144.000000   6.000000e+06               3.000000         123.000000   \n",
       "\n",
       "        loan_intent    loan_grade     loan_amnt  loan_int_rate   loan_status  \\\n",
       "count  32416.000000  32416.000000  32416.000000   32416.000000  32416.000000   \n",
       "mean       2.340264      1.220508   9593.845632      11.017265      0.218688   \n",
       "std        1.679273      1.167293   6322.730241       3.083040      0.413363   \n",
       "min        0.000000      0.000000    500.000000       5.420000      0.000000   \n",
       "25%        1.000000      0.000000   5000.000000       8.490000      0.000000   \n",
       "50%        2.000000      1.000000   8000.000000      11.017265      0.000000   \n",
       "75%        4.000000      2.000000  12250.000000      13.110000      0.000000   \n",
       "max        5.000000      6.000000  35000.000000      23.220000      1.000000   \n",
       "\n",
       "       loan_percent_income  cb_person_default_on_file  \\\n",
       "count         32416.000000               32416.000000   \n",
       "mean              0.170250                   0.823235   \n",
       "std               0.106812                   0.381475   \n",
       "min               0.000000                   0.000000   \n",
       "25%               0.090000                   1.000000   \n",
       "50%               0.150000                   1.000000   \n",
       "75%               0.230000                   1.000000   \n",
       "max               0.830000                   1.000000   \n",
       "\n",
       "       cb_person_cred_hist_length  \n",
       "count                32416.000000  \n",
       "mean                     5.811297  \n",
       "std                      4.059030  \n",
       "min                      2.000000  \n",
       "25%                      3.000000  \n",
       "50%                      4.000000  \n",
       "75%                      8.000000  \n",
       "max                     30.000000  "
      ]
     },
     "execution_count": 32,
     "metadata": {},
     "output_type": "execute_result"
    }
   ],
   "source": [
    "df.describe()"
   ]
  },
  {
   "cell_type": "markdown",
   "id": "d08b25ea-53f1-4b0a-9730-044eeee9763d",
   "metadata": {},
   "source": [
    "#### Target variable is loan_status"
   ]
  },
  {
   "cell_type": "code",
   "execution_count": 33,
   "id": "25379989",
   "metadata": {},
   "outputs": [
    {
     "data": {
      "text/plain": [
       "loan_status\n",
       "0    0.781312\n",
       "1    0.218688\n",
       "Name: proportion, dtype: float64"
      ]
     },
     "execution_count": 33,
     "metadata": {},
     "output_type": "execute_result"
    }
   ],
   "source": [
    "df[\"loan_status\"].value_counts(normalize=True)"
   ]
  },
  {
   "cell_type": "markdown",
   "id": "37e7585c-f254-4ec2-804c-090dcab22d5b",
   "metadata": {},
   "source": [
    "#### Split the data into train and test sets"
   ]
  },
  {
   "cell_type": "code",
   "execution_count": 40,
   "id": "c605e59e",
   "metadata": {},
   "outputs": [],
   "source": [
    "X_df, X_test_df, y_df, y_test_df = train_test_split(df.drop('loan_status', axis=1), df['loan_status'],\n",
    "                                        random_state=0,  test_size=0.2, stratify=df['loan_status'],\n",
    "                                        shuffle=True)"
   ]
  },
  {
   "cell_type": "code",
   "execution_count": 76,
   "id": "ef7becd2-6d85-4007-9fa9-9642394df01c",
   "metadata": {},
   "outputs": [
    {
     "data": {
      "text/plain": [
       "count    25932.000000\n",
       "mean         0.218687\n",
       "std          0.413364\n",
       "min          0.000000\n",
       "25%          0.000000\n",
       "50%          0.000000\n",
       "75%          0.000000\n",
       "max          1.000000\n",
       "Name: loan_status, dtype: float64"
      ]
     },
     "execution_count": 76,
     "metadata": {},
     "output_type": "execute_result"
    }
   ],
   "source": [
    "y_df.describe()"
   ]
  },
  {
   "cell_type": "code",
   "execution_count": 46,
   "id": "b91cfa75-07a3-42e9-ac1b-75d60c7cb3cf",
   "metadata": {},
   "outputs": [],
   "source": [
    "X = X_df.to_numpy()\n",
    "y = y_df.to_numpy()\n",
    "X_test = X_test_df.to_numpy()\n",
    "y_test = y_test_df.to_numpy()"
   ]
  },
  {
   "cell_type": "code",
   "execution_count": 48,
   "id": "87170064-bb7b-46ce-843f-50ce96cb41b0",
   "metadata": {},
   "outputs": [
    {
     "data": {
      "text/plain": [
       "(11,)"
      ]
     },
     "execution_count": 48,
     "metadata": {},
     "output_type": "execute_result"
    }
   ],
   "source": [
    "X[0].shape"
   ]
  },
  {
   "cell_type": "code",
   "execution_count": 555,
   "id": "9ceea875",
   "metadata": {},
   "outputs": [],
   "source": [
    "model = Sequential(name=\"Model-with-One-Input\") # Model\n",
    "model.add(Input(shape=X[0].shape, name='Input-Layer')) # Input Layer - need to speicfy the shape of inputs\n",
    "model.add(Dense(12, activation='relu', name='h_l1')) # Hidden Layer, softplus(x) = log(exp(x) + 1)\n",
    "model.add(Dense(8, activation='relu', name='h_l2')) # Hidden Layer, softplus(x) = log(exp(x) + 1)\n",
    "model.add(Dense(1, activation='relu', name='Output-Layer')) # Output Layer, sigmoid(x) = 1 / (1 + exp(-x))"
   ]
  },
  {
   "cell_type": "code",
   "execution_count": 556,
   "id": "0cb0c729",
   "metadata": {},
   "outputs": [],
   "source": [
    "model.compile(optimizer='Adam', loss='binary_crossentropy')"
   ]
  },
  {
   "cell_type": "code",
   "execution_count": 557,
   "id": "fb401803-0517-43e6-aef2-cb36e22979df",
   "metadata": {},
   "outputs": [
    {
     "name": "stdout",
     "output_type": "stream",
     "text": [
      "811/811 [==============================] - 2s 2ms/step - loss: 11.9198\n"
     ]
    },
    {
     "data": {
      "text/plain": [
       "<keras.callbacks.History at 0x7fd290629cd0>"
      ]
     },
     "execution_count": 557,
     "metadata": {},
     "output_type": "execute_result"
    }
   ],
   "source": [
    "model.fit(X, y)"
   ]
  },
  {
   "cell_type": "code",
   "execution_count": 558,
   "id": "97e4c342-634a-4faf-a88e-13dfdd3c4bdc",
   "metadata": {},
   "outputs": [
    {
     "name": "stdout",
     "output_type": "stream",
     "text": [
      "203/203 [==============================] - 0s 1ms/step - loss: 11.9215\n"
     ]
    },
    {
     "data": {
      "text/plain": [
       "11.921518325805664"
      ]
     },
     "execution_count": 558,
     "metadata": {},
     "output_type": "execute_result"
    }
   ],
   "source": [
    "model.evaluate(X_test, y_test)"
   ]
  },
  {
   "cell_type": "code",
   "execution_count": 559,
   "id": "b7fd2d0d-1fd8-4593-88b2-a28227c766ac",
   "metadata": {},
   "outputs": [
    {
     "data": {
      "text/plain": [
       "1418"
      ]
     },
     "execution_count": 559,
     "metadata": {},
     "output_type": "execute_result"
    }
   ],
   "source": [
    "sum(y_test)"
   ]
  },
  {
   "cell_type": "code",
   "execution_count": 560,
   "id": "93609bd2-fa17-4e2f-a4ef-edf8db8baf25",
   "metadata": {},
   "outputs": [
    {
     "name": "stdout",
     "output_type": "stream",
     "text": [
      "203/203 [==============================] - 0s 1ms/step\n"
     ]
    },
    {
     "data": {
      "text/plain": [
       "array([[1785.0743],\n",
       "       [ 982.6855],\n",
       "       [1887.7802],\n",
       "       ...,\n",
       "       [2054.8672],\n",
       "       [ 326.7732],\n",
       "       [2479.8965]], dtype=float32)"
      ]
     },
     "execution_count": 560,
     "metadata": {},
     "output_type": "execute_result"
    }
   ],
   "source": [
    "model.predict(X_test)"
   ]
  },
  {
   "cell_type": "code",
   "execution_count": 561,
   "id": "822e531f-075a-4ec2-b103-afb2b3e24849",
   "metadata": {},
   "outputs": [
    {
     "data": {
      "text/plain": [
       "array([0, 1, 0, ..., 0, 0, 1])"
      ]
     },
     "execution_count": 561,
     "metadata": {},
     "output_type": "execute_result"
    }
   ],
   "source": [
    "y_test"
   ]
  },
  {
   "cell_type": "code",
   "execution_count": 562,
   "id": "d9d6b511-3d98-4bd9-aef1-6d95b83510b3",
   "metadata": {},
   "outputs": [
    {
     "name": "stdout",
     "output_type": "stream",
     "text": [
      "203/203 [==============================] - 0s 1ms/step\n"
     ]
    },
    {
     "data": {
      "text/plain": [
       "array([[1785.0743],\n",
       "       [ 982.6855],\n",
       "       [1887.7802],\n",
       "       ...,\n",
       "       [2054.8672],\n",
       "       [ 326.7732],\n",
       "       [2479.8965]], dtype=float32)"
      ]
     },
     "execution_count": 562,
     "metadata": {},
     "output_type": "execute_result"
    }
   ],
   "source": [
    "model.predict(X_test)"
   ]
  },
  {
   "cell_type": "code",
   "execution_count": 563,
   "id": "ba71200a-97ef-43bf-9cb1-cfb56ee6be86",
   "metadata": {},
   "outputs": [
    {
     "name": "stdout",
     "output_type": "stream",
     "text": [
      "203/203 [==============================] - 0s 2ms/step\n"
     ]
    },
    {
     "data": {
      "text/plain": [
       "0.21822948797038866"
      ]
     },
     "execution_count": 563,
     "metadata": {},
     "output_type": "execute_result"
    }
   ],
   "source": [
    "sum(list(map(lambda x: 1 if (x>0.5)[0] else 0 , model.predict(X_test))) == y_test) / len(y_test)"
   ]
  },
  {
   "cell_type": "code",
   "execution_count": 564,
   "id": "675dcf91-5139-49a9-815f-e878fbb91e14",
   "metadata": {},
   "outputs": [
    {
     "data": {
      "text/plain": [
       "array([0, 1, 0, ..., 0, 0, 1])"
      ]
     },
     "execution_count": 564,
     "metadata": {},
     "output_type": "execute_result"
    }
   ],
   "source": [
    "y_test"
   ]
  },
  {
   "cell_type": "code",
   "execution_count": 565,
   "id": "44b12f9c-69d2-44c8-8767-88b02cb62823",
   "metadata": {},
   "outputs": [],
   "source": [
    "all_w = []\n",
    "activations = []\n",
    "import json\n",
    "for layer in model.layers:\n",
    "    all_w.append(layer.weights[0].numpy().T.tolist())\n",
    "    activations.append(layer.activation.__name__)"
   ]
  },
  {
   "cell_type": "code",
   "execution_count": 566,
   "id": "e4840225-dff2-4edd-8e19-b953ec828412",
   "metadata": {},
   "outputs": [],
   "source": [
    "map_activation = {\n",
    "    'identity': 0,\n",
    "    'sigmoid': 1,\n",
    "    'relu': 2,\n",
    "}"
   ]
  },
  {
   "cell_type": "code",
   "execution_count": 567,
   "id": "339f4104-dd76-413a-af2c-e8fb80c6b7d9",
   "metadata": {},
   "outputs": [],
   "source": [
    "activations = list(map(lambda x: map_activation[x], activations))"
   ]
  },
  {
   "cell_type": "code",
   "execution_count": 568,
   "id": "afa4bb78-6d03-4461-95fe-35173bcb4769",
   "metadata": {},
   "outputs": [],
   "source": [
    "model_json = {\n",
    "    'weights': all_w,\n",
    "    'activation_functions': activations,\n",
    "}\n",
    "model_file = open('model.json','w')\n",
    "json.dump(model_json, model_file)\n",
    "model_file.close()"
   ]
  },
  {
   "cell_type": "code",
   "execution_count": 569,
   "id": "bb88f1c4-6b38-479c-af86-5485b6ea0b69",
   "metadata": {},
   "outputs": [],
   "source": [
    "import os\n",
    "\n",
    "\n",
    "NODE_URL = os.getenv(\"APTOS_NODE_URL\", \"https://fullnode.devnet.aptoslabs.com/v1\")\n",
    "FAUCET_URL = os.getenv(\n",
    "    \"APTOS_FAUCET_URL\",\n",
    "    \"https://faucet.devnet.aptoslabs.com\",\n",
    ")"
   ]
  },
  {
   "cell_type": "code",
   "execution_count": 570,
   "id": "b5c7ec67-82a0-4681-998f-d2ee062f8a47",
   "metadata": {},
   "outputs": [],
   "source": [
    "from aptos_sdk.account import Account, RotationProofChallenge\n",
    "from aptos_sdk.account_address import AccountAddress\n",
    "from aptos_sdk.authenticator import Authenticator, MultiEd25519Authenticator\n",
    "from aptos_sdk.bcs import Serializer, Deserializer\n",
    "from aptos_sdk.client import FaucetClient, RestClient\n",
    "from aptos_sdk.ed25519 import PublicKey, Signature\n",
    "from aptos_sdk.transactions import (\n",
    "    EntryFunction,\n",
    "    RawTransaction,\n",
    "    Script,\n",
    "    ScriptArgument,\n",
    "    SignedTransaction,\n",
    "    TransactionArgument,\n",
    "    TransactionPayload,\n",
    ")\n",
    "from aptos_sdk.type_tag import StructTag, TypeTag"
   ]
  },
  {
   "cell_type": "code",
   "execution_count": 571,
   "id": "a2b2afc4-b210-482a-a9cd-35cade7351eb",
   "metadata": {},
   "outputs": [
    {
     "data": {
      "text/plain": [
       "b'\\x01\\x01\\x01\\x00\\x00\\x00\\x00\\x00\\x00\\x00\\x00\\x00\\x00\\x00\\x00\\x00\\x00\\x00\\x00'"
      ]
     },
     "execution_count": 571,
     "metadata": {},
     "output_type": "execute_result"
    }
   ],
   "source": [
    "ser = Serializer()\n",
    "seq_ser = Serializer.sequence_serializer(Serializer.u128)\n",
    "seq_ser = Serializer.sequence_serializer(seq_ser)\n",
    "seq_ser = Serializer.sequence_serializer(seq_ser)\n",
    "seq_ser(ser, [[[0]]])\n",
    "ser.output()"
   ]
  },
  {
   "cell_type": "code",
   "execution_count": 572,
   "id": "eb9e6a9c-7b8f-47e3-a622-1ec238e88c74",
   "metadata": {},
   "outputs": [],
   "source": [
    "rest_client = RestClient(NODE_URL)\n",
    "faucet_client = FaucetClient(FAUCET_URL, rest_client)"
   ]
  },
  {
   "cell_type": "code",
   "execution_count": 573,
   "id": "e6511974-7b55-4db2-b48c-9a7638fc98ea",
   "metadata": {},
   "outputs": [],
   "source": [
    "def deep_vec_serializer(n, ser):\n",
    "    for _ in range(n):\n",
    "        ser = Serializer.sequence_serializer(ser)\n",
    "    return ser"
   ]
  },
  {
   "cell_type": "code",
   "execution_count": 574,
   "id": "a69ff91a-2238-4a08-9d92-507406536eaf",
   "metadata": {
    "scrolled": true
   },
   "outputs": [],
   "source": [
    "def fp_to_fixed64(f: np.float128) -> int:\n",
    "    return round(np.float128(f) * np.float128(2**64)) & (2**128 - 1)\n",
    "def fixed64_to_fp(f: int) -> np.float128:\n",
    "    return np.float128(f) / np.float128(2**64)"
   ]
  },
  {
   "cell_type": "code",
   "execution_count": 575,
   "id": "3c2bf5a3-3c29-48c1-903d-8f61e9f89fb4",
   "metadata": {},
   "outputs": [],
   "source": [
    "import math\n",
    "def fp_as_u128_serializer_abs(self, f):\n",
    "    self.u128(fp_to_fixed64(abs(f)))\n",
    "def fp_as_u128_serializer_sign(self, f):\n",
    "    self.bool(f < 0)"
   ]
  },
  {
   "cell_type": "code",
   "execution_count": 576,
   "id": "c0306058-91e1-42c0-9f2f-28539b645032",
   "metadata": {},
   "outputs": [
    {
     "data": {
      "text/plain": [
       "b'\\x01\\x01\\x01\\x00\\x00\\x00\\x00\\x00\\x00\\x00\\x80\\x01\\x00\\x00\\x00\\x00\\x00\\x00\\x00'"
      ]
     },
     "execution_count": 576,
     "metadata": {},
     "output_type": "execute_result"
    }
   ],
   "source": [
    "TransactionArgument([[[1.5]]], deep_vec_serializer(3, fp_as_u128)).encode()"
   ]
  },
  {
   "cell_type": "code",
   "execution_count": null,
   "id": "37c7eae9-4262-4e2a-8074-ea3f77825c9f",
   "metadata": {},
   "outputs": [],
   "source": []
  },
  {
   "cell_type": "code",
   "execution_count": 577,
   "id": "030a06fc-c90f-4714-b093-cf196a9a72f9",
   "metadata": {},
   "outputs": [],
   "source": [
    "alice = Account.generate()"
   ]
  },
  {
   "cell_type": "code",
   "execution_count": 578,
   "id": "33177d72-7dbd-468c-a35e-12bef19652be",
   "metadata": {},
   "outputs": [],
   "source": [
    "move_ai_addr = '5534a248787f181af2098e1b55326f59a7a098bb2292b55ba6ac9c4381535e59'"
   ]
  },
  {
   "cell_type": "code",
   "execution_count": 579,
   "id": "f1c66072-2cab-46fa-8035-ea1d55fcac52",
   "metadata": {},
   "outputs": [],
   "source": [
    "move_ai_address = AccountAddress.from_hex(move_ai_addr)\n",
    "move_ai_private_key = ed25519.PrivateKey.from_hex('0x68db9d6724b56436517301058477345b5fdd67e6fea6358f564ec6b7068b9e63')"
   ]
  },
  {
   "cell_type": "code",
   "execution_count": 580,
   "id": "0c2544bc-efd4-458d-8699-64ad993bb2df",
   "metadata": {},
   "outputs": [],
   "source": [
    "move_ai = Account(move_ai_address, move_ai_private_key)"
   ]
  },
  {
   "cell_type": "code",
   "execution_count": null,
   "id": "89e45a14-93da-4ba6-b27c-2b30f547781e",
   "metadata": {},
   "outputs": [],
   "source": []
  },
  {
   "cell_type": "code",
   "execution_count": 581,
   "id": "ebbc1f38-8f65-4f81-8068-aead8e550e51",
   "metadata": {},
   "outputs": [],
   "source": [
    "entry_function = EntryFunction.natural(\n",
    "    module=f\"0x{move_ai_addr}::nn\",\n",
    "    function=\"update_nn\",\n",
    "    ty_args=[],\n",
    "    args=[\n",
    "        TransactionArgument(all_w, deep_vec_serializer(3, fp_as_u128_serializer_abs)),\n",
    "        TransactionArgument(all_w, deep_vec_serializer(3, fp_as_u128_serializer_sign)),\n",
    "        TransactionArgument(activations, deep_vec_serializer(1, Serializer.u8)),\n",
    "    ],\n",
    ")\n",
    "tx_hash = rest_client.submit_bcs_transaction(rest_client.create_bcs_signed_transaction(move_ai, TransactionPayload(entry_function)))"
   ]
  },
  {
   "cell_type": "code",
   "execution_count": 602,
   "id": "013d1df9-3f2d-4808-96b3-36faef756138",
   "metadata": {},
   "outputs": [
    {
     "name": "stdout",
     "output_type": "stream",
     "text": [
      "Update Neural Network TX: 0xeabc338cf55ce2fc67580a2243504c7cc7d6e8c15c770c973277fa11bba65d9c\n"
     ]
    }
   ],
   "source": [
    "print(f'Update Neural Network TX: {tx_hash}')"
   ]
  },
  {
   "cell_type": "code",
   "execution_count": 583,
   "id": "3ebdd8d3-9796-4aa2-9b8c-019501301782",
   "metadata": {},
   "outputs": [],
   "source": [
    "rest_client.wait_for_transaction(tx_hash)"
   ]
  },
  {
   "cell_type": "code",
   "execution_count": 603,
   "id": "f4a20d18-3235-49ee-9170-3c831d22cf0a",
   "metadata": {},
   "outputs": [
    {
     "name": "stdout",
     "output_type": "stream",
     "text": [
      "INPUT: [44.0, 80000.0, 2.0, 14.0, 2.0, 0.0, 10000.0, 6.03, 0.13, 1.0, 15.0]\n"
     ]
    }
   ],
   "source": [
    "print(f'input: {list(X_test[0])}')"
   ]
  },
  {
   "cell_type": "code",
   "execution_count": 593,
   "id": "9e2df3a9-b08a-45d0-822b-62856e1d26c9",
   "metadata": {},
   "outputs": [],
   "source": [
    "entry_function = EntryFunction.natural(\n",
    "    module=f\"0x{move_ai_addr}::nn\",\n",
    "    function=\"run\",\n",
    "    ty_args=[],\n",
    "    args=[\n",
    "        TransactionArgument(list(X_test[0]), deep_vec_serializer(1, fp_as_u128_serializer_abs)),\n",
    "        TransactionArgument(list(X_test[0]), deep_vec_serializer(1, fp_as_u128_serializer_sign)),\n",
    "    ],\n",
    ")\n",
    "tx_hash = rest_client.submit_bcs_transaction(rest_client.create_bcs_signed_transaction(move_ai, TransactionPayload(entry_function)))"
   ]
  },
  {
   "cell_type": "code",
   "execution_count": 604,
   "id": "2cd174df-79d7-4c9e-905b-2345a2266832",
   "metadata": {},
   "outputs": [
    {
     "name": "stdout",
     "output_type": "stream",
     "text": [
      "Run TX: 0xeabc338cf55ce2fc67580a2243504c7cc7d6e8c15c770c973277fa11bba65d9c\n"
     ]
    }
   ],
   "source": [
    "print(f'Run TX: {tx_hash}')"
   ]
  },
  {
   "cell_type": "code",
   "execution_count": 605,
   "id": "19dad41f-6086-46e7-8470-1b2a73d4b9ca",
   "metadata": {},
   "outputs": [],
   "source": [
    "rest_client.wait_for_transaction(tx_hash)"
   ]
  },
  {
   "cell_type": "code",
   "execution_count": 608,
   "id": "4fbc0da9-bd29-4f58-b94a-b9c281112c2f",
   "metadata": {},
   "outputs": [
    {
     "name": "stdout",
     "output_type": "stream",
     "text": [
      "on-chain calculated result: 1785.0740433921853\n"
     ]
    }
   ],
   "source": [
    "print(f'on-chain calculated result: {fixed64_to_fp(32928804031077540392892)}')"
   ]
  },
  {
   "cell_type": "code",
   "execution_count": 607,
   "id": "05856984-058e-48c0-9d09-4d82eb4d967d",
   "metadata": {},
   "outputs": [
    {
     "name": "stdout",
     "output_type": "stream",
     "text": [
      "1/1 [==============================] - 0s 15ms/step\n",
      "python model result: [[1785.0743]]\n"
     ]
    }
   ],
   "source": [
    "print(f'python model result: {model.predict(X_test[0:1])}')"
   ]
  },
  {
   "cell_type": "code",
   "execution_count": null,
   "id": "abc01b5c-04a0-4386-ad7b-3c58973c60d3",
   "metadata": {},
   "outputs": [],
   "source": []
  }
 ],
 "metadata": {
  "kernelspec": {
   "display_name": "Python 3 (ipykernel)",
   "language": "python",
   "name": "python3"
  },
  "language_info": {
   "codemirror_mode": {
    "name": "ipython",
    "version": 3
   },
   "file_extension": ".py",
   "mimetype": "text/x-python",
   "name": "python",
   "nbconvert_exporter": "python",
   "pygments_lexer": "ipython3",
   "version": "3.11.3"
  }
 },
 "nbformat": 4,
 "nbformat_minor": 5
}
